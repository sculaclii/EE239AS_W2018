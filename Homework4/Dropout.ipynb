{
 "cells": [
  {
   "cell_type": "markdown",
   "metadata": {},
   "source": [
    "# Dropout\n",
    "\n",
    "In this notebook, you will implement dropout.  Then we will ask you to train a network with batchnorm and dropout, and acheive over 60% accuracy on CIFAR-10.\n",
    "\n",
    "CS231n has built a solid API for building these modular frameworks and training them, and we will use their very well implemented framework as opposed to \"reinventing the wheel.\"  This includes using their Solver, various utility functions, and their layer structure.  This also includes nndl.fc_net, nndl.layers, and nndl.layer_utils.  As in prior assignments, we thank Serena Yeung & Justin Johnson for permission to use code written for the CS 231n class (cs231n.stanford.edu).  "
   ]
  },
  {
   "cell_type": "code",
   "execution_count": 1,
   "metadata": {},
   "outputs": [],
   "source": [
    "## Import and setups\n",
    "\n",
    "import time\n",
    "import numpy as np\n",
    "import matplotlib.pyplot as plt\n",
    "from nndl.fc_net import *\n",
    "from nndl.layers import *\n",
    "from cs231n.data_utils import get_CIFAR10_data\n",
    "from cs231n.gradient_check import eval_numerical_gradient, eval_numerical_gradient_array\n",
    "from cs231n.solver import Solver\n",
    "\n",
    "%matplotlib inline\n",
    "plt.rcParams['figure.figsize'] = (10.0, 8.0) # set default size of plots\n",
    "plt.rcParams['image.interpolation'] = 'nearest'\n",
    "plt.rcParams['image.cmap'] = 'gray'\n",
    "\n",
    "# for auto-reloading external modules\n",
    "# see http://stackoverflow.com/questions/1907993/autoreload-of-modules-in-ipython\n",
    "%load_ext autoreload\n",
    "%autoreload 2\n",
    "\n",
    "def rel_error(x, y):\n",
    "  \"\"\" returns relative error \"\"\"\n",
    "  return np.max(np.abs(x - y) / (np.maximum(1e-8, np.abs(x) + np.abs(y))))"
   ]
  },
  {
   "cell_type": "code",
   "execution_count": 2,
   "metadata": {},
   "outputs": [
    {
     "name": "stdout",
     "output_type": "stream",
     "text": [
      "y_train: (49000,) \n",
      "X_test: (1000, 3, 32, 32) \n",
      "y_test: (1000,) \n",
      "X_train: (49000, 3, 32, 32) \n",
      "X_val: (1000, 3, 32, 32) \n",
      "y_val: (1000,) \n"
     ]
    }
   ],
   "source": [
    "# Load the (preprocessed) CIFAR10 data.\n",
    "\n",
    "data = get_CIFAR10_data()\n",
    "for k in data.keys():\n",
    "  print('{}: {} '.format(k, data[k].shape))"
   ]
  },
  {
   "cell_type": "markdown",
   "metadata": {},
   "source": [
    "## Dropout forward pass\n",
    "\n",
    "Implement the training and test time dropout forward pass, `dropout_forward`, in `nndl/layers.py`. After that, test your implementation by running the following cell."
   ]
  },
  {
   "cell_type": "code",
   "execution_count": 61,
   "metadata": {},
   "outputs": [
    {
     "name": "stdout",
     "output_type": "stream",
     "text": [
      "Running tests with p =  0.3\n",
      "Mean of input:  9.999295179393348\n",
      "Mean of train-time output:  9.988955719720446\n",
      "Mean of test-time output:  9.999295179393348\n",
      "Fraction of train-time output set to zero:  0.300812\n",
      "Fraction of test-time output set to zero:  0.0\n",
      "Running tests with p =  0.6\n",
      "Mean of input:  9.999295179393348\n",
      "Mean of train-time output:  9.979096173568665\n",
      "Mean of test-time output:  9.999295179393348\n",
      "Fraction of train-time output set to zero:  0.600744\n",
      "Fraction of test-time output set to zero:  0.0\n",
      "Running tests with p =  0.75\n",
      "Mean of input:  9.999295179393348\n",
      "Mean of train-time output:  9.948022531440651\n",
      "Mean of test-time output:  9.999295179393348\n",
      "Fraction of train-time output set to zero:  0.751276\n",
      "Fraction of test-time output set to zero:  0.0\n"
     ]
    }
   ],
   "source": [
    "x = np.random.randn(500, 500) + 10\n",
    "\n",
    "for p in [0.3, 0.6, 0.75]:\n",
    "  out, _ = dropout_forward(x, {'mode': 'train', 'p': p})\n",
    "  out_test, _ = dropout_forward(x, {'mode': 'test', 'p': p})\n",
    "\n",
    "  print('Running tests with p = ', p)\n",
    "  print('Mean of input: ', x.mean())\n",
    "  print('Mean of train-time output: ', out.mean())\n",
    "  print('Mean of test-time output: ', out_test.mean())\n",
    "  print('Fraction of train-time output set to zero: ', (out == 0).mean())\n",
    "  print('Fraction of test-time output set to zero: ', (out_test == 0).mean())"
   ]
  },
  {
   "cell_type": "markdown",
   "metadata": {},
   "source": [
    "## Dropout backward pass\n",
    "\n",
    "Implement the backward pass, `dropout_backward`, in `nndl/layers.py`.  After that, test your gradients by running the following cell:"
   ]
  },
  {
   "cell_type": "code",
   "execution_count": 62,
   "metadata": {},
   "outputs": [
    {
     "name": "stdout",
     "output_type": "stream",
     "text": [
      "dx relative error:  1.8929038320045785e-11\n"
     ]
    }
   ],
   "source": [
    "x = np.random.randn(10, 10) + 10\n",
    "dout = np.random.randn(*x.shape)\n",
    "\n",
    "dropout_param = {'mode': 'train', 'p': 0.8, 'seed': 123}\n",
    "out, cache = dropout_forward(x, dropout_param)\n",
    "dx = dropout_backward(dout, cache)\n",
    "dx_num = eval_numerical_gradient_array(lambda xx: dropout_forward(xx, dropout_param)[0], x, dout)\n",
    "\n",
    "print('dx relative error: ', rel_error(dx, dx_num))"
   ]
  },
  {
   "cell_type": "markdown",
   "metadata": {},
   "source": [
    "## Implement a fully connected neural network with dropout layers\n",
    "\n",
    "Modify the `FullyConnectedNet()` class in `nndl/fc_net.py` to incorporate dropout.  A dropout layer should be incorporated after every ReLU layer.  Concretely, there shouldn't be a dropout at the output layer since there is no ReLU at the output layer. You will need to modify the class in the following areas:\n",
    "\n",
    "(1) In the forward pass, you will need to incorporate a dropout layer after every relu layer.\n",
    "\n",
    "(2) In the backward pass, you will need to incorporate a dropout backward pass layer.\n",
    "\n",
    "Check your implementation by running the following code.  Our W1 gradient relative error is on the order of 1e-6 (the largest of all the relative errors)."
   ]
  },
  {
   "cell_type": "code",
   "execution_count": 63,
   "metadata": {},
   "outputs": [
    {
     "name": "stdout",
     "output_type": "stream",
     "text": [
      "Running check with dropout =  0\n",
      "Initial loss:  2.3051948273887595\n",
      "W1 relative error: 5.254262642222096e-07\n",
      "W2 relative error: 1.5034484929313676e-05\n",
      "W3 relative error: 2.4897805052044803e-07\n",
      "b1 relative error: 1.3413524910372306e-07\n",
      "b2 relative error: 7.092869570829237e-08\n",
      "b3 relative error: 8.144601210153121e-11\n",
      "\n",
      "\n",
      "Running check with dropout =  0.25\n",
      "Initial loss:  2.2989861475614957\n",
      "W1 relative error: 9.737733598900162e-07\n",
      "W2 relative error: 5.700123711587608e-08\n",
      "W3 relative error: 2.265352903786226e-08\n",
      "b1 relative error: 7.702210659787585e-09\n",
      "b2 relative error: 3.5433459847315244e-09\n",
      "b3 relative error: 1.312251088711572e-10\n",
      "\n",
      "\n",
      "Running check with dropout =  0.5\n",
      "Initial loss:  2.303566758649532\n",
      "W1 relative error: 1.1401257458777745e-06\n",
      "W2 relative error: 3.720577595915706e-08\n",
      "W3 relative error: 8.641458106857003e-09\n",
      "b1 relative error: 8.755713851320434e-08\n",
      "b2 relative error: 8.356671888699128e-10\n",
      "b3 relative error: 1.157791255605988e-10\n",
      "\n",
      "\n"
     ]
    }
   ],
   "source": [
    "N, D, H1, H2, C = 2, 15, 20, 30, 10\n",
    "X = np.random.randn(N, D)\n",
    "y = np.random.randint(C, size=(N,))\n",
    "\n",
    "for dropout in [0, 0.25, 0.5]:\n",
    "  print('Running check with dropout = ', dropout)\n",
    "  model = FullyConnectedNet([H1, H2], input_dim=D, num_classes=C,\n",
    "                            weight_scale=5e-2, dtype=np.float64,\n",
    "                            dropout=dropout, seed=123)\n",
    "\n",
    "  loss, grads = model.loss(X, y)\n",
    "  print('Initial loss: ', loss)\n",
    "\n",
    "  for name in sorted(grads):\n",
    "    f = lambda _: model.loss(X, y)[0]\n",
    "    grad_num = eval_numerical_gradient(f, model.params[name], verbose=False, h=1e-5)\n",
    "    print('{} relative error: {}'.format(name, rel_error(grad_num, grads[name])))\n",
    "  print('\\n')"
   ]
  },
  {
   "cell_type": "markdown",
   "metadata": {},
   "source": [
    "## Dropout as a regularizer\n",
    "\n",
    "In class, we claimed that dropout acts as a regularizer by effectively bagging.  To check this, we will train two small networks, one with dropout and one without dropout.  "
   ]
  },
  {
   "cell_type": "code",
   "execution_count": 67,
   "metadata": {},
   "outputs": [
    {
     "name": "stdout",
     "output_type": "stream",
     "text": [
      "(Iteration 1 / 125) loss: 2.302331\n",
      "(Epoch 0 / 25) train acc: 0.160000; val_acc: 0.146000\n",
      "(Epoch 1 / 25) train acc: 0.218000; val_acc: 0.177000\n",
      "(Epoch 2 / 25) train acc: 0.266000; val_acc: 0.219000\n",
      "(Epoch 3 / 25) train acc: 0.276000; val_acc: 0.238000\n",
      "(Epoch 4 / 25) train acc: 0.352000; val_acc: 0.252000\n",
      "(Epoch 5 / 25) train acc: 0.364000; val_acc: 0.284000\n",
      "(Epoch 6 / 25) train acc: 0.422000; val_acc: 0.301000\n",
      "(Epoch 7 / 25) train acc: 0.494000; val_acc: 0.313000\n",
      "(Epoch 8 / 25) train acc: 0.536000; val_acc: 0.307000\n",
      "(Epoch 9 / 25) train acc: 0.570000; val_acc: 0.313000\n",
      "(Epoch 10 / 25) train acc: 0.616000; val_acc: 0.327000\n",
      "(Epoch 11 / 25) train acc: 0.678000; val_acc: 0.307000\n",
      "(Epoch 12 / 25) train acc: 0.672000; val_acc: 0.304000\n",
      "(Epoch 13 / 25) train acc: 0.752000; val_acc: 0.307000\n",
      "(Epoch 14 / 25) train acc: 0.780000; val_acc: 0.294000\n",
      "(Epoch 15 / 25) train acc: 0.834000; val_acc: 0.289000\n",
      "(Epoch 16 / 25) train acc: 0.874000; val_acc: 0.295000\n",
      "(Epoch 17 / 25) train acc: 0.876000; val_acc: 0.316000\n",
      "(Epoch 18 / 25) train acc: 0.898000; val_acc: 0.280000\n",
      "(Epoch 19 / 25) train acc: 0.916000; val_acc: 0.323000\n",
      "(Epoch 20 / 25) train acc: 0.940000; val_acc: 0.282000\n",
      "(Iteration 101 / 125) loss: 0.300045\n",
      "(Epoch 21 / 25) train acc: 0.960000; val_acc: 0.296000\n",
      "(Epoch 22 / 25) train acc: 0.950000; val_acc: 0.297000\n",
      "(Epoch 23 / 25) train acc: 0.954000; val_acc: 0.290000\n",
      "(Epoch 24 / 25) train acc: 0.968000; val_acc: 0.278000\n",
      "(Epoch 25 / 25) train acc: 0.976000; val_acc: 0.301000\n",
      "(Iteration 1 / 125) loss: 2.310089\n",
      "(Epoch 0 / 25) train acc: 0.130000; val_acc: 0.098000\n",
      "(Epoch 1 / 25) train acc: 0.162000; val_acc: 0.130000\n",
      "(Epoch 2 / 25) train acc: 0.208000; val_acc: 0.157000\n",
      "(Epoch 3 / 25) train acc: 0.234000; val_acc: 0.179000\n",
      "(Epoch 4 / 25) train acc: 0.256000; val_acc: 0.209000\n",
      "(Epoch 5 / 25) train acc: 0.288000; val_acc: 0.226000\n",
      "(Epoch 6 / 25) train acc: 0.286000; val_acc: 0.208000\n",
      "(Epoch 7 / 25) train acc: 0.292000; val_acc: 0.213000\n",
      "(Epoch 8 / 25) train acc: 0.312000; val_acc: 0.255000\n",
      "(Epoch 9 / 25) train acc: 0.308000; val_acc: 0.246000\n",
      "(Epoch 10 / 25) train acc: 0.296000; val_acc: 0.247000\n",
      "(Epoch 11 / 25) train acc: 0.334000; val_acc: 0.248000\n",
      "(Epoch 12 / 25) train acc: 0.356000; val_acc: 0.266000\n",
      "(Epoch 13 / 25) train acc: 0.380000; val_acc: 0.282000\n",
      "(Epoch 14 / 25) train acc: 0.374000; val_acc: 0.287000\n",
      "(Epoch 15 / 25) train acc: 0.386000; val_acc: 0.279000\n",
      "(Epoch 16 / 25) train acc: 0.416000; val_acc: 0.277000\n",
      "(Epoch 17 / 25) train acc: 0.424000; val_acc: 0.305000\n",
      "(Epoch 18 / 25) train acc: 0.428000; val_acc: 0.300000\n",
      "(Epoch 19 / 25) train acc: 0.440000; val_acc: 0.322000\n",
      "(Epoch 20 / 25) train acc: 0.434000; val_acc: 0.318000\n",
      "(Iteration 101 / 125) loss: 1.782605\n",
      "(Epoch 21 / 25) train acc: 0.470000; val_acc: 0.333000\n",
      "(Epoch 22 / 25) train acc: 0.484000; val_acc: 0.328000\n",
      "(Epoch 23 / 25) train acc: 0.478000; val_acc: 0.322000\n",
      "(Epoch 24 / 25) train acc: 0.498000; val_acc: 0.314000\n",
      "(Epoch 25 / 25) train acc: 0.482000; val_acc: 0.297000\n"
     ]
    }
   ],
   "source": [
    "# Train two identical nets, one with dropout and one without\n",
    "\n",
    "num_train = 500\n",
    "small_data = {\n",
    "  'X_train': data['X_train'][:num_train],\n",
    "  'y_train': data['y_train'][:num_train],\n",
    "  'X_val': data['X_val'],\n",
    "  'y_val': data['y_val'],\n",
    "}\n",
    "\n",
    "solvers = {}\n",
    "dropout_choices = [0, 0.6]\n",
    "for dropout in dropout_choices:\n",
    "  model = FullyConnectedNet([100, 100, 100], dropout=dropout)\n",
    "\n",
    "  solver = Solver(model, small_data,\n",
    "                  num_epochs=25, batch_size=100,\n",
    "                  update_rule='adam',\n",
    "                  optim_config={\n",
    "                    'learning_rate': 5e-4,\n",
    "                  },\n",
    "                  verbose=True, print_every=100)\n",
    "  solver.train()\n",
    "  solvers[dropout] = solver"
   ]
  },
  {
   "cell_type": "code",
   "execution_count": 68,
   "metadata": {},
   "outputs": [
    {
     "data": {
      "image/png": "[encoded data removed]",
      "text/plain": [
       "<matplotlib.figure.Figure at 0x7f5c2e65b550>"
      ]
     },
     "metadata": {},
     "output_type": "display_data"
    }
   ],
   "source": [
    "# Plot train and validation accuracies of the two models\n",
    "\n",
    "train_accs = []\n",
    "val_accs = []\n",
    "for dropout in dropout_choices:\n",
    "  solver = solvers[dropout]\n",
    "  train_accs.append(solver.train_acc_history[-1])\n",
    "  val_accs.append(solver.val_acc_history[-1])\n",
    "\n",
    "plt.subplot(3, 1, 1)\n",
    "for dropout in dropout_choices:\n",
    "  plt.plot(solvers[dropout].train_acc_history, 'o', label='%.2f dropout' % dropout)\n",
    "plt.title('Train accuracy')\n",
    "plt.xlabel('Epoch')\n",
    "plt.ylabel('Accuracy')\n",
    "plt.legend(ncol=2, loc='lower right')\n",
    "  \n",
    "plt.subplot(3, 1, 2)\n",
    "for dropout in dropout_choices:\n",
    "  plt.plot(solvers[dropout].val_acc_history, 'o', label='%.2f dropout' % dropout)\n",
    "plt.title('Val accuracy')\n",
    "plt.xlabel('Epoch')\n",
    "plt.ylabel('Accuracy')\n",
    "plt.legend(ncol=2, loc='lower right')\n",
    "\n",
    "plt.gcf().set_size_inches(15, 15)\n",
    "plt.show()"
   ]
  },
  {
   "cell_type": "markdown",
   "metadata": {},
   "source": [
    "## Question\n",
    "\n",
    "Based off the results of this experiment, is dropout performing regularization?  Explain your answer."
   ]
  },
  {
   "cell_type": "markdown",
   "metadata": {},
   "source": [
    "## Answer:\n",
    "Yes. Dropout is relatively much less accurate on the training set, and is showing comparable accuracy during validation. In other words dropout prevents overfitting the training data, and predicts the validation data similarly. Thus it indeed performs regularization."
   ]
  },
  {
   "cell_type": "markdown",
   "metadata": {},
   "source": [
    "## Final part of the assignment\n",
    "\n",
    "Get over 60% validation accuracy on CIFAR-10 by using the layers you have implemented.  You will be graded according to the following equation:\n",
    "\n",
    "min(floor((X - 32%)) / 28%, 1) \n",
    "where if you get 60% or higher validation accuracy, you get full points."
   ]
  },
  {
   "cell_type": "code",
   "execution_count": 155,
   "metadata": {
    "scrolled": false
   },
   "outputs": [
    {
     "name": "stdout",
     "output_type": "stream",
     "text": [
      "(Iteration 1 / 1715) loss: 2.392302\n",
      "(Epoch 0 / 35) train acc: 0.201000; val_acc: 0.201000\n",
      "(Epoch 1 / 35) train acc: 0.449000; val_acc: 0.446000\n",
      "(Epoch 2 / 35) train acc: 0.514000; val_acc: 0.482000\n",
      "(Epoch 3 / 35) train acc: 0.511000; val_acc: 0.504000\n",
      "(Epoch 4 / 35) train acc: 0.520000; val_acc: 0.509000\n",
      "(Iteration 201 / 1715) loss: 1.408454\n",
      "(Epoch 5 / 35) train acc: 0.564000; val_acc: 0.517000\n",
      "(Epoch 6 / 35) train acc: 0.592000; val_acc: 0.525000\n",
      "(Epoch 7 / 35) train acc: 0.595000; val_acc: 0.533000\n",
      "(Epoch 8 / 35) train acc: 0.617000; val_acc: 0.550000\n",
      "(Iteration 401 / 1715) loss: 1.302819\n",
      "(Epoch 9 / 35) train acc: 0.631000; val_acc: 0.542000\n",
      "(Epoch 10 / 35) train acc: 0.642000; val_acc: 0.529000\n",
      "(Epoch 11 / 35) train acc: 0.639000; val_acc: 0.539000\n",
      "(Epoch 12 / 35) train acc: 0.637000; val_acc: 0.542000\n",
      "(Iteration 601 / 1715) loss: 1.228874\n",
      "(Epoch 13 / 35) train acc: 0.691000; val_acc: 0.555000\n",
      "(Epoch 14 / 35) train acc: 0.654000; val_acc: 0.558000\n",
      "(Epoch 15 / 35) train acc: 0.687000; val_acc: 0.564000\n",
      "(Epoch 16 / 35) train acc: 0.665000; val_acc: 0.548000\n",
      "(Iteration 801 / 1715) loss: 1.160126\n",
      "(Epoch 17 / 35) train acc: 0.663000; val_acc: 0.543000\n",
      "(Epoch 18 / 35) train acc: 0.689000; val_acc: 0.563000\n",
      "(Epoch 19 / 35) train acc: 0.682000; val_acc: 0.542000\n",
      "(Epoch 20 / 35) train acc: 0.695000; val_acc: 0.549000\n",
      "(Iteration 1001 / 1715) loss: 1.254885\n",
      "(Epoch 21 / 35) train acc: 0.710000; val_acc: 0.554000\n",
      "(Epoch 22 / 35) train acc: 0.711000; val_acc: 0.542000\n",
      "(Epoch 23 / 35) train acc: 0.726000; val_acc: 0.559000\n",
      "(Epoch 24 / 35) train acc: 0.692000; val_acc: 0.563000\n",
      "(Iteration 1201 / 1715) loss: 1.132092\n",
      "(Epoch 25 / 35) train acc: 0.712000; val_acc: 0.559000\n",
      "(Epoch 26 / 35) train acc: 0.744000; val_acc: 0.542000\n",
      "(Epoch 27 / 35) train acc: 0.756000; val_acc: 0.557000\n",
      "(Epoch 28 / 35) train acc: 0.752000; val_acc: 0.557000\n",
      "(Iteration 1401 / 1715) loss: 1.148710\n",
      "(Epoch 29 / 35) train acc: 0.726000; val_acc: 0.546000\n",
      "(Epoch 30 / 35) train acc: 0.724000; val_acc: 0.557000\n",
      "(Epoch 31 / 35) train acc: 0.747000; val_acc: 0.552000\n",
      "(Epoch 32 / 35) train acc: 0.738000; val_acc: 0.549000\n",
      "(Iteration 1601 / 1715) loss: 1.133607\n",
      "(Epoch 33 / 35) train acc: 0.741000; val_acc: 0.542000\n",
      "(Epoch 34 / 35) train acc: 0.763000; val_acc: 0.562000\n",
      "(Epoch 35 / 35) train acc: 0.730000; val_acc: 0.548000\n"
     ]
    }
   ],
   "source": [
    "# ================================================================ #\n",
    "# YOUR CODE HERE:\n",
    "#   Implement a FC-net that achieves at least 60% validation accuracy\n",
    "#   on CIFAR-10.\n",
    "# ================================================================ #\n",
    "image_data = {\n",
    "  'X_train': data['X_train'],#[0:num_train],\n",
    "  'y_train': data['y_train'],#[0:num_train],\n",
    "  'X_val': data['X_val'],\n",
    "  'y_val': data['y_val'],\n",
    "}\n",
    "\n",
    "solvers = {}\n",
    "#best dropout: 0.2\n",
    "model = FullyConnectedNet([300, 300, 300, 100], weight_scale=5e-2, dropout=0.2, reg=1e-5, use_batchnorm=True)\n",
    "solver = Solver(model, image_data,\n",
    "              num_epochs=25,batch_size=1000,\n",
    "              update_rule='adam',\n",
    "              optim_config={\n",
    "                'learning_rate': 1e-2, # best rate: 1e-2\n",
    "                'beta1': 0.8, # 0.9\n",
    "                'beta2': 0.990, # 0.999\n",
    "              },\n",
    "              verbose=True, print_every=200)\n",
    "solver.train()\n",
    "# ================================================================ #\n",
    "# END YOUR CODE HERE\n",
    "# ================================================================ #\n"
   ]
  },
  {
   "cell_type": "code",
   "execution_count": null,
   "metadata": {},
   "outputs": [],
   "source": []
  }
 ],
 "metadata": {
  "kernelspec": {
   "display_name": "Python 3",
   "language": "python",
   "name": "python3"
  },
  "language_info": {
   "codemirror_mode": {
    "name": "ipython",
    "version": 3
   },
   "file_extension": ".py",
   "mimetype": "text/x-python",
   "name": "python",
   "nbconvert_exporter": "python",
   "pygments_lexer": "ipython3",
   "version": "3.5.4"
  }
 },
 "nbformat": 4,
 "nbformat_minor": 2
}
